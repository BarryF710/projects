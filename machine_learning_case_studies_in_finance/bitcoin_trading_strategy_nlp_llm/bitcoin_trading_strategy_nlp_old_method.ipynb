{
  "cells": [
    {
      "cell_type": "markdown",
      "metadata": {
        "id": "W79wBgOK0NYC"
      },
      "source": [
        "# 1. Load the python packages"
      ]
    },
    {
      "cell_type": "code",
      "execution_count": null,
      "metadata": {
        "colab": {
          "base_uri": "https://localhost:8080/"
        },
        "id": "bNFWWS8XtjLS",
        "outputId": "902110fb-ece1-40f8-f5ba-bf61d0d2bc11"
      },
      "outputs": [],
      "source": [
        "import pkg_resources\n",
        "import pip\n",
        "installedPackages = {pkg.key for pkg in pkg_resources.working_set}\n",
        "required = {'nltk', 'spacy', 'textblob', 'backtrader'}\n",
        "missing = required - installedPackages\n",
        "if missing:\n",
        "    !pip install nltk==3.4\n",
        "    !pip install textblob==0.15.3\n",
        "    !pip install -U SpaCy==2.2.0\n",
        "    !python -m spacy download en_core_web_lg\n",
        "    !pip install backtrader==1.9.74.123\n",
        "!pip install tensorflow"
      ]
    },
    {
      "cell_type": "code",
      "execution_count": null,
      "metadata": {
        "colab": {
          "base_uri": "https://localhost:8080/"
        },
        "id": "fLj5g6J6tp3i",
        "outputId": "6d10435f-291a-4085-ce6a-69c431e117d0"
      },
      "outputs": [],
      "source": [
        "#NLP libraries\n",
        "from textblob import TextBlob\n",
        "import spacy\n",
        "import nltk\n",
        "import warnings\n",
        "from nltk.sentiment.vader import SentimentIntensityAnalyzer\n",
        "nltk.download('vader_lexicon')\n",
        "import csv\n",
        "import pandas as pd\n",
        "\n",
        "#Run the command python -m spacy download en_core_web_sm to download this\n",
        "#https://spacy.io/models\n",
        "import en_core_web_lg\n",
        "nlp = en_core_web_lg.load()\n",
        "\n",
        "#Libraries for processing the news headlines\n",
        "from lxml import etree\n",
        "import json\n",
        "from io import StringIO\n",
        "from os import listdir\n",
        "from os.path import isfile, join\n",
        "from pandas.tseries.offsets import BDay\n",
        "from scipy.stats.mstats import winsorize\n",
        "from copy import copy\n",
        "\n",
        "# Libraries for Classification for modeling the sentiments\n",
        "from sklearn.neural_network import MLPClassifier\n",
        "from sklearn.ensemble import RandomForestClassifier\n",
        "from sklearn.linear_model import LogisticRegression\n",
        "from sklearn.tree import DecisionTreeClassifier\n",
        "from sklearn.neighbors import KNeighborsClassifier\n",
        "from sklearn.svm import SVC\n",
        "from sklearn.metrics import classification_report, confusion_matrix, accuracy_score\n",
        "\n",
        "# Keras package for the deep learning model for the sentiment prediction.\n",
        "from tensorflow.keras.preprocessing.text import Tokenizer\n",
        "from tensorflow.keras.preprocessing.sequence import pad_sequences\n",
        "from tensorflow.keras.models import Sequential\n",
        "from tensorflow.keras.layers import Dense, Flatten, LSTM, Dropout, Activation\n",
        "from tensorflow.keras.layers import Embedding\n",
        "\n",
        "# Load libraries\n",
        "import statsmodels.api as sm\n",
        "import seaborn as sns\n",
        "import pandas as pd\n",
        "import numpy as np\n",
        "import datetime\n",
        "from datetime import date\n",
        "import matplotlib.pyplot as plt\n",
        "import yfinance as yf\n",
        "\n",
        "#Additional Libraries\n",
        "import json\n",
        "import zipfile\n",
        "import os.path\n",
        "import sys\n",
        "\n",
        "#Diable the warnings\n",
        "import warnings\n",
        "warnings.filterwarnings('ignore')"
      ]
    },
    {
      "cell_type": "markdown",
      "metadata": {
        "id": "ZNKkHHhe0S6a"
      },
      "source": [
        "# 2. Load dataset"
      ]
    },
    {
      "cell_type": "code",
      "execution_count": null,
      "metadata": {
        "id": "0jEKjQQqudJK"
      },
      "outputs": [],
      "source": [
        "# tickers = ['AAPL','MSFT','AMZN','GOOG','FB','WMT','JPM','TSLA','NFLX','ADBE']\n",
        "# start = '2010-01-01'\n",
        "# end = '2018-12-31'\n",
        "# df_ticker_return = pd.DataFrame()\n",
        "# for ticker in tickers:\n",
        "#     ticker_yf = yf.Ticker(ticker)\n",
        "#     if df_ticker_return.empty:\n",
        "#         df_ticker_return = ticker_yf.history(start = start, end = end)\n",
        "#         df_ticker_return['ticker']= ticker\n",
        "#     else:\n",
        "#         data_temp = ticker_yf.history(start = start, end = end)\n",
        "#         data_temp['ticker']= ticker\n",
        "#         df_ticker_return = df_ticker_return.append(data_temp)\n",
        "# df_ticker_return.to_csv(r'Data\\Step2.2_ReturnData.csv')"
      ]
    },
    {
      "cell_type": "code",
      "execution_count": null,
      "metadata": {
        "colab": {
          "base_uri": "https://localhost:8080/",
          "height": 76
        },
        "id": "duhUb36i2Cz-",
        "outputId": "d6abae34-dbce-4ce7-feb5-709513c65900"
      },
      "outputs": [],
      "source": [
        "from google.colab import files\n",
        "uploaded = files.upload()\n",
        "\n",
        "# load Step2.2_ReturnData.csv # not needed unless engineer indicators\n",
        "# load Raw Headline Data.zip # not needed\n",
        "# load Step3_NewsAndReturnData.csv # not needed unless compute new sentiment score\n",
        "# load Step4_DataWithSentimentsResults.csv"
      ]
    },
    {
      "cell_type": "markdown",
      "metadata": {
        "id": "amxrwYbEptvT"
      },
      "source": [
        "# 3. Build the trading strategy"
      ]
    },
    {
      "cell_type": "code",
      "execution_count": null,
      "metadata": {
        "id": "rfExscbApuXW"
      },
      "outputs": [],
      "source": [
        "# Define your tickers list\n",
        "tickers = ['AAPL', 'MSFT', 'AMZN', 'GOOG', 'META', 'WMT', 'JPM', 'TSLA', 'NFLX', 'ADBE']\n",
        "\n",
        "# Load the data\n",
        "data_df = pd.read_csv(r'Step4_DataWithSentimentsResults.csv', sep='|')\n",
        "\n",
        "# Replace 'FB' with 'META' in the 'ticker' column\n",
        "data_df['ticker'] = data_df['ticker'].replace('FB', 'META')\n",
        "\n",
        "# Filter the data to include only rows with the specified tickers\n",
        "data_df = data_df[data_df['ticker'].isin(tickers)]"
      ]
    },
    {
      "cell_type": "code",
      "execution_count": null,
      "metadata": {
        "id": "yVLXpaxM4fnm"
      },
      "outputs": [],
      "source": [
        "###########################\n",
        "# Setting up the strategy #\n",
        "###########################\n",
        "\n",
        "import backtrader as bt\n",
        "import backtrader.indicators as btind\n",
        "import backtrader.analyzers as btanalyzers\n",
        "\n",
        "class Sentiment(bt.Indicator):\n",
        "    lines = ('sentiment',)\n",
        "    plotinfo = dict(\n",
        "        plotymargin=0.5,\n",
        "        plothlines=[0],\n",
        "        plotyticks=[1.0, 0, -1.0])\n",
        "\n",
        "    def next(self):\n",
        "        self.sentiment = 0.0\n",
        "        self.date = self.data.datetime\n",
        "        date = bt.num2date(self.date[0]).date()\n",
        "        prev_sentiment = self.sentiment\n",
        "        if date in date_sentiment:\n",
        "            self.sentiment = date_sentiment[date]\n",
        "        self.lines.sentiment[0] = self.sentiment\n",
        "\n",
        "class SentimentStrat(bt.Strategy):\n",
        "    params = (\n",
        "        ('period', 15),\n",
        "        ('printlog', True),\n",
        "    )\n",
        "\n",
        "    def log(self, txt, dt=None, doprint=False):\n",
        "        ''' Logging function for this strategy'''\n",
        "        if self.params.printlog or doprint:\n",
        "            dt = dt or self.datas[0].datetime.date(0)\n",
        "            print('%s, %s' % (dt.isoformat(), txt))\n",
        "\n",
        "    def __init__(self):\n",
        "        # Keep a reference to the \"close\" line in the data[0] dataseries\n",
        "        self.dataclose = self.datas[0].close\n",
        "        # Keep track of pending orders\n",
        "        self.order = None\n",
        "        self.buyprice = None\n",
        "        self.buycomm = None\n",
        "        self.sma = bt.indicators.SimpleMovingAverage(\n",
        "            self.datas[0], period=self.params.period)\n",
        "        self.date = self.data.datetime\n",
        "        self.sentiment = None\n",
        "        Sentiment(self.data)\n",
        "        self.plotinfo.plot = False\n",
        "        self.buy_signals = []  # List to store buy points\n",
        "        self.sell_signals = []  # List to store sell points\n",
        "\n",
        "    def notify_order(self, order):\n",
        "        if order.status in [order.Submitted, order.Accepted]:\n",
        "            # Buy/Sell order submitted/accepted to/by broker - Nothing to do\n",
        "            return\n",
        "\n",
        "        # Check if an order has been completed\n",
        "        # Attention: broker could reject order if not enough cash\n",
        "        if order.status in [order.Completed]:\n",
        "            if order.isbuy():\n",
        "                self.log(\n",
        "                    'BUY EXECUTED, Price: %.2f, Cost: %.2f, Comm %.2f' %\n",
        "                    (order.executed.price,\n",
        "                     order.executed.value,\n",
        "                     order.executed.comm))\n",
        "                self.buyprice = order.executed.price\n",
        "                self.buycomm = order.executed.comm\n",
        "            else:  # Sell\n",
        "                self.log('SELL EXECUTED, Price: %.2f, Cost: %.2f, Comm %.2f' %\n",
        "                         (order.executed.price,\n",
        "                          order.executed.value,\n",
        "                          order.executed.comm))\n",
        "\n",
        "            self.bar_executed = len(self)\n",
        "\n",
        "        elif order.status in [order.Canceled, order.Margin, order.Rejected]:\n",
        "            self.log('Order Canceled/Margin/Rejected')\n",
        "\n",
        "        # Write down: no pending order\n",
        "        self.order = None\n",
        "\n",
        "    def notify_trade(self, trade):\n",
        "        if not trade.isclosed:\n",
        "            return\n",
        "\n",
        "        self.log('OPERATION PROFIT, GROSS %.2f, NET %.2f' %\n",
        "                 (trade.pnl, trade.pnlcomm))\n",
        "\n",
        "    ### Main Strat ###\n",
        "    def next(self):\n",
        "        date = bt.num2date(self.date[0]).date()\n",
        "        prev_sentiment = self.sentiment\n",
        "        if date in date_sentiment:\n",
        "            self.sentiment = date_sentiment[date]\n",
        "\n",
        "        # Check if an order is pending. if yes, we cannot send a 2nd one\n",
        "        if self.order:\n",
        "            return\n",
        "        # If not in the market and previous sentiment not none\n",
        "        if not self.position and prev_sentiment:\n",
        "            # buy if current close more than sma AND sentiment increased by >= 0.5\n",
        "            if self.dataclose[0] > self.sma[0] and self.sentiment - prev_sentiment >= 0.5:\n",
        "                self.log('Previous Sentiment %.2f, New Sentiment %.2f BUY CREATE, %.2f' % (prev_sentiment, self.sentiment, self.dataclose[0]))\n",
        "                self.order = self.buy()\n",
        "                self.buy_signals.append((self.data.datetime.date(0), self.data.close[0]))  # Record buy signal\n",
        "\n",
        "        # Already in the market and previous sentiment not none\n",
        "        elif prev_sentiment:\n",
        "            # sell if current close less than sma AND sentiment decreased by >= 0.5\n",
        "            if self.dataclose[0] < self.sma[0] and self.sentiment - prev_sentiment <= -0.5:\n",
        "                self.log('Previous Sentiment %.2f, New Sentiment %.2f SELL CREATE, %.2f' % (prev_sentiment, self.sentiment, self.dataclose[0]))\n",
        "                self.order = self.sell()\n",
        "                self.sell_signals.append((self.data.datetime.date(0), self.data.close[0]))  # Record sell signal\n",
        "\n",
        "    def stop(self):\n",
        "        self.log('(MA Period %2d) Ending Value %.2f' %\n",
        "                 (self.params.period, self.broker.getvalue()), doprint=True)\n",
        "\n",
        "#############################################\n",
        "# Function for running the trading strategy #\n",
        "#############################################\n",
        "\n",
        "def run_strategy(ticker, start, end):\n",
        "    print(ticker)\n",
        "    ticker_data = yf.Ticker(ticker)\n",
        "    df_ticker = ticker_data.history(start=start, end=end)\n",
        "\n",
        "    # Initialize Cerebro and strategy\n",
        "    cerebro = bt.Cerebro()\n",
        "    sentiment_strategy = SentimentStrat  # Assuming your strategy is called SentimentStrat\n",
        "    cerebro.addstrategy(sentiment_strategy)\n",
        "\n",
        "    # Load data into Cerebro\n",
        "    data = bt.feeds.PandasData(dataname=df_ticker)\n",
        "    cerebro.adddata(data)\n",
        "\n",
        "    # Set initial cash and other parameters\n",
        "    initial_cash = 100000.0\n",
        "    cerebro.broker.setcash(initial_cash)\n",
        "    cerebro.addsizer(bt.sizers.FixedSize, stake=100)\n",
        "    print(f'Starting Portfolio Value: {initial_cash:.2f}')\n",
        "\n",
        "    # Run the strategy\n",
        "    strat_instance = cerebro.run()[0]  # Get the strategy instance\n",
        "\n",
        "    # Extract the dates and closing prices\n",
        "    dates = df_ticker.index\n",
        "    close_prices = df_ticker['Close']\n",
        "\n",
        "    # Extract buy/sell signals from the strategy instance\n",
        "    buy_signals = strat_instance.buy_signals\n",
        "    sell_signals = strat_instance.sell_signals\n",
        "\n",
        "    # Plot the closing price and buy/sell markers\n",
        "    plt.figure(figsize=(12, 6))\n",
        "    plt.plot(dates, close_prices, label=f\"{ticker} Closing Price\", color=\"blue\")\n",
        "\n",
        "    # Plot buy and sell signals\n",
        "    if buy_signals:\n",
        "        buy_dates, buy_prices = zip(*buy_signals)\n",
        "        plt.scatter(buy_dates, buy_prices, marker='^', color='green', label='Buy Signal', s=100)\n",
        "    if sell_signals:\n",
        "        sell_dates, sell_prices = zip(*sell_signals)\n",
        "        plt.scatter(sell_dates, sell_prices, marker='v', color='red', label='Sell Signal', s=100)\n",
        "\n",
        "    # Customize and display the plot\n",
        "    plt.title(f\"{ticker} Strategy Performance with Buy/Sell Signals\")\n",
        "    plt.xlabel(\"Date\")\n",
        "    plt.ylabel(\"Price\")\n",
        "    plt.legend()\n",
        "    plt.show()\n",
        "\n",
        "    # Display portfolio summary\n",
        "    final_cash = cerebro.broker.getvalue()\n",
        "    print(f'Start Portfolio value: {initial_cash:.2f}\\nFinal Portfolio Value: {final_cash:.2f}\\nProfit: {final_cash - initial_cash:.2f}')\n",
        "\n",
        "    return float(close_prices[0]), (final_cash - initial_cash)"
      ]
    },
    {
      "cell_type": "markdown",
      "metadata": {
        "id": "4_HisVtQtjwC"
      },
      "source": [
        "## Results for Individual Stocks"
      ]
    },
    {
      "cell_type": "code",
      "execution_count": null,
      "metadata": {
        "colab": {
          "base_uri": "https://localhost:8080/",
          "height": 1000
        },
        "id": "Qm9MD-LW5NOK",
        "outputId": "8db6a07b-ecbd-4f52-af12-a8390f031fed"
      },
      "outputs": [],
      "source": [
        "ticker = 'GOOG'\n",
        "date_sentiment=data_df[data_df['ticker'].isin([ticker])]\n",
        "date_sentiment=date_sentiment[['date','sentiment_lex']]\n",
        "date_sentiment['date']=pd.to_datetime(date_sentiment['date'], format='%Y-%m-%d').dt.date\n",
        "date_sentiment=date_sentiment.set_index('date')['sentiment_lex']\n",
        "date_sentiment=date_sentiment.to_dict()\n",
        "run_strategy(ticker, start = '2012-01-01', end = '2018-12-12')"
      ]
    },
    {
      "cell_type": "markdown",
      "metadata": {
        "id": "cQxEoYMRtll_"
      },
      "source": [
        "## Results for Multiple Stocks"
      ]
    },
    {
      "cell_type": "code",
      "execution_count": null,
      "metadata": {
        "colab": {
          "base_uri": "https://localhost:8080/",
          "height": 1000
        },
        "id": "rkda76_ctl2e",
        "outputId": "29481385-7e7b-48ed-85dd-b1b4b9773b51"
      },
      "outputs": [],
      "source": [
        "results_tickers = {}\n",
        "for ticker in tickers:\n",
        "    date_sentiment=data_df[data_df['ticker'].isin([ticker])]\n",
        "    date_sentiment=date_sentiment[['date','sentiment_lex']]\n",
        "    date_sentiment['date']=pd.to_datetime(date_sentiment['date'], format='%Y-%m-%d').dt.date\n",
        "    date_sentiment=date_sentiment.set_index('date')['sentiment_lex']\n",
        "    date_sentiment=date_sentiment.to_dict()\n",
        "    results_tickers[ticker] = run_strategy(ticker, start = '2012-01-01', end = '2018-12-12')"
      ]
    },
    {
      "cell_type": "code",
      "execution_count": null,
      "metadata": {
        "colab": {
          "base_uri": "https://localhost:8080/",
          "height": 125
        },
        "id": "recS_IGLVL_a",
        "outputId": "1bb8d6f4-1915-4699-a484-58ed48447fb5"
      },
      "outputs": [],
      "source": [
        "df_profit_all = pd.DataFrame.from_dict(results_tickers).set_index([pd.Index([\"PerUnitStartPrice\", 'StrategyProfit'])])\n",
        "\n",
        "df_profit_all"
      ]
    },
    {
      "cell_type": "code",
      "execution_count": null,
      "metadata": {
        "colab": {
          "base_uri": "https://localhost:8080/"
        },
        "id": "dP_7UGGqBZxs",
        "outputId": "3883c315-a0a3-43ff-be26-f0bde586d7df"
      },
      "outputs": [],
      "source": [
        "strategy_profit_sum = df_profit_all.loc[\"StrategyProfit\"].sum()\n",
        "print(\"Total Strategy Profit:\", strategy_profit_sum)"
      ]
    },
    {
      "cell_type": "code",
      "execution_count": null,
      "metadata": {
        "colab": {
          "base_uri": "https://localhost:8080/",
          "height": 1000
        },
        "id": "DI48Sc4J53jh",
        "outputId": "53ce38dd-c1dc-458d-8c1a-478d7a80658f"
      },
      "outputs": [],
      "source": [
        "results_tickers = {}\n",
        "for ticker in tickers:\n",
        "    date_sentiment=data_df[data_df['ticker'].isin([ticker])]\n",
        "    date_sentiment=date_sentiment[['date','sentiment_lex']]\n",
        "    date_sentiment['date']=pd.to_datetime(date_sentiment['date'], format='%Y-%m-%d').dt.date\n",
        "    date_sentiment=date_sentiment.set_index('date')['sentiment_lex']\n",
        "    date_sentiment=date_sentiment.to_dict()\n",
        "    results_tickers[ticker] = run_strategy(ticker, start = '2016-01-01', end = '2018-12-12')"
      ]
    },
    {
      "cell_type": "code",
      "execution_count": null,
      "metadata": {
        "colab": {
          "base_uri": "https://localhost:8080/",
          "height": 125
        },
        "id": "RliV8O4-56lG",
        "outputId": "4be493b8-cf25-453c-b3cc-14ec870a936d"
      },
      "outputs": [],
      "source": [
        "df_profit_all = pd.DataFrame.from_dict(results_tickers).set_index([pd.Index([\"PerUnitStartPrice\", 'StrategyProfit'])])\n",
        "\n",
        "df_profit_all"
      ]
    },
    {
      "cell_type": "markdown",
      "metadata": {
        "id": "5wJXQ53j0vtm"
      },
      "source": [
        "## Varying the Strategy Time Period for Individual Stocks"
      ]
    },
    {
      "cell_type": "code",
      "execution_count": null,
      "metadata": {
        "colab": {
          "base_uri": "https://localhost:8080/",
          "height": 1000
        },
        "id": "cdkCcH7V0xJP",
        "outputId": "380561c8-c0f6-4e15-8724-83f4460ca488"
      },
      "outputs": [],
      "source": [
        "import random\n",
        "import pandas as pd\n",
        "from datetime import timedelta\n",
        "\n",
        "# Assuming your data is loaded as 'data_df' and spans '2012-01-01' to '2018-12-12'\n",
        "ticker = 'GOOG'\n",
        "start_date = pd.to_datetime('2012-01-01')\n",
        "end_date = pd.to_datetime('2018-12-12')\n",
        "total_days = (end_date - start_date).days\n",
        "\n",
        "# Set seed for reproducibility\n",
        "random.seed(42)\n",
        "\n",
        "# Generate 100 random start dates within the allowable range\n",
        "period_length = 365*2\n",
        "num_period = 100\n",
        "periods = [\n",
        "    start_date + timedelta(days=day_offset)\n",
        "    for day_offset in random.sample(range(total_days - period_length), num_period)\n",
        "]\n",
        "\n",
        "# Calculate and store profit for each period\n",
        "profits = []\n",
        "for start in periods:\n",
        "    period_start = start.strftime('%Y-%m-%d')\n",
        "    period_end = (start + timedelta(days=period_length)).strftime('%Y-%m-%d')\n",
        "    _, profit = run_strategy(ticker, start=period_start, end=period_end)\n",
        "    profits.append((period_start, period_end, profit))\n",
        "\n",
        "# Convert to a DataFrame for analysis\n",
        "profit_df = pd.DataFrame(profits, columns=[\"Period Start\", \"Period End\", \"Profit\"])\n",
        "print(profit_df)"
      ]
    },
    {
      "cell_type": "code",
      "execution_count": null,
      "metadata": {
        "colab": {
          "base_uri": "https://localhost:8080/"
        },
        "id": "6kFwzFn4ypXD",
        "outputId": "9e2ab011-4c33-43cd-ff0a-b915f89610d0"
      },
      "outputs": [],
      "source": [
        "# Display descriptive statistics for the 'Profit' column\n",
        "profit_stats = profit_df['Profit'].describe()\n",
        "print(profit_stats)"
      ]
    },
    {
      "cell_type": "markdown",
      "metadata": {
        "id": "Bl7YkuN-zPQg"
      },
      "source": [
        "## Varying the Strategy Time Period for Multiple Stocks"
      ]
    },
    {
      "cell_type": "code",
      "execution_count": null,
      "metadata": {
        "colab": {
          "background_save": true,
          "base_uri": "https://localhost:8080/",
          "height": 1000
        },
        "id": "G6c5c5TYzR2O",
        "outputId": "2c2e306d-56d7-446d-b825-9152b3f34f95"
      },
      "outputs": [],
      "source": [
        "import random\n",
        "import pandas as pd\n",
        "from datetime import timedelta\n",
        "\n",
        "# Assuming your data is loaded as 'data_df' and spans '2012-01-01' to '2018-12-12'\n",
        "tickers = ['AAPL', 'MSFT', 'AMZN', 'GOOG', 'META', 'WMT', 'JPM', 'TSLA', 'NFLX', 'ADBE']\n",
        "start_date = pd.to_datetime('2012-01-01')\n",
        "end_date = pd.to_datetime('2018-12-12')\n",
        "total_days = (end_date - start_date).days\n",
        "\n",
        "# Set seed for reproducibility\n",
        "random.seed(42)\n",
        "\n",
        "# Define period length and number of periods\n",
        "period_length = 365*2  # Length of each period in days\n",
        "num_period = 100    # Number of periods\n",
        "\n",
        "# Dictionary to store descriptive stats for each ticker\n",
        "descriptive_stats = {}\n",
        "\n",
        "# Iterate over each ticker\n",
        "for ticker in tickers:\n",
        "    # Generate 100 random start dates within the allowable range\n",
        "    periods = [\n",
        "        start_date + timedelta(days=day_offset)\n",
        "        for day_offset in random.sample(range(total_days - period_length), num_period)\n",
        "    ]\n",
        "\n",
        "    # Calculate and store profit for each period\n",
        "    profits = []\n",
        "    for start in periods:\n",
        "        period_start = start.strftime('%Y-%m-%d')\n",
        "        period_end = (start + timedelta(days=period_length)).strftime('%Y-%m-%d')\n",
        "        _, profit = run_strategy(ticker, start=period_start, end=period_end)\n",
        "        profits.append(profit)\n",
        "\n",
        "    # Calculate descriptive statistics for the ticker\n",
        "    profit_series = pd.Series(profits)\n",
        "    stats = profit_series.describe()\n",
        "\n",
        "    # Add ticker stats to dictionary\n",
        "    descriptive_stats[ticker] = stats\n",
        "\n",
        "# Convert the dictionary to a DataFrame\n",
        "descriptive_stats_df = pd.DataFrame(descriptive_stats)"
      ]
    },
    {
      "cell_type": "code",
      "execution_count": null,
      "metadata": {
        "colab": {
          "base_uri": "https://localhost:8080/",
          "height": 300
        },
        "id": "PCeKAPAD0wtv",
        "outputId": "2ad1e5d5-c2b4-4113-9046-41c7305f2e0a"
      },
      "outputs": [],
      "source": [
        "descriptive_stats_df"
      ]
    }
  ],
  "metadata": {
    "colab": {
      "provenance": []
    },
    "kernelspec": {
      "display_name": "Python 3",
      "name": "python3"
    },
    "language_info": {
      "name": "python"
    }
  },
  "nbformat": 4,
  "nbformat_minor": 0
}
